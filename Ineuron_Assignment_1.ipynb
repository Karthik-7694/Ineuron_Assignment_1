{
 "cells": [
  {
   "cell_type": "code",
   "execution_count": 1,
   "metadata": {
    "collapsed": false,
    "deletable": true,
    "editable": true
   },
   "outputs": [
    {
     "name": "stdout",
     "output_type": "stream",
     "text": [
      "Enter your Principal_Amount:1000\n",
      "Enter your No_of_years:8\n",
      "Enter your Rate_of_Interest:8\n",
      "640.0\n"
     ]
    }
   ],
   "source": [
    "# Task 1: 1) Install Jupyter notebook and run the first program and share the screenshot of the output\n",
    "\n",
    "Principal_Amount=int(input(\"Enter your Principal_Amount:\"))\n",
    "No_of_years=int(input(\"Enter your No_of_years:\"))\n",
    "Rate_of_Interest=int(input(\"Enter your Rate_of_Interest:\"))\n",
    "Simple_Interest = Principal_Amount*No_of_years*Rate_of_Interest/100\n",
    "print(Simple_Interest)\n"
   ]
  },
  {
   "cell_type": "code",
   "execution_count": 2,
   "metadata": {
    "collapsed": false,
    "deletable": true,
    "editable": true
   },
   "outputs": [
    {
     "name": "stdout",
     "output_type": "stream",
     "text": [
      "2002,2009,2016,2023,2037,2044,2051,2058,2072,2079,2086,2093,2107,2114,2121,2128,2142,2149,2156,2163,2177,2184,2191,2198,2212,2219,2226,2233,2247,2254,2261,2268,2282,2289,2296,2303,2317,2324,2331,2338,2352,2359,2366,2373,2387,2394,2401,2408,2422,2429,2436,2443,2457,2464,2471,2478,2492,2499,2506,2513,2527,2534,2541,2548,2562,2569,2576,2583,2597,2604,2611,2618,2632,2639,2646,2653,2667,2674,2681,2688,2702,2709,2716,2723,2737,2744,2751,2758,2772,2779,2786,2793,2807,2814,2821,2828,2842,2849,2856,2863,2877,2884,2891,2898,2912,2919,2926,2933,2947,2954,2961,2968,2982,2989,2996,3003,3017,3024,3031,3038,3052,3059,3066,3073,3087,3094,3101,3108,3122,3129,3136,3143,3157,3164,3171,3178,3192,3199\n"
     ]
    }
   ],
   "source": [
    "# Task 1: 2)Write a program which will find all such numbers which are divisible by 7 but are not a multiple of 5, between 2000 and 3200 (both included). The numbers obtained should be printed in a comma-separated sequence on a single line.\n",
    "\n",
    "numbers=[]\n",
    "for i in range(2000,3200):\n",
    "    if (i%7==0) and (i%5!=0):\n",
    "        numbers.append(str(i))\n",
    "print (','.join(numbers))\n"
   ]
  },
  {
   "cell_type": "code",
   "execution_count": 3,
   "metadata": {
    "collapsed": false,
    "deletable": true,
    "editable": true
   },
   "outputs": [
    {
     "name": "stdout",
     "output_type": "stream",
     "text": [
      "Enter your First Name : Karthik\n",
      "Enter your Last Name : Harisamy\n",
      "Harisamy Karthik\n"
     ]
    }
   ],
   "source": [
    "# Task 1: 3)Write a Python program to accept the user's first and last name and then getting them printed in the the reverse order with a space between first name and last name. \n",
    "\n",
    "First_Name = input(\"Enter your First Name : \")\n",
    "Last_Name = input(\"Enter your Last Name : \")\n",
    "print (Last_Name + \" \" + First_Name)"
   ]
  },
  {
   "cell_type": "code",
   "execution_count": 4,
   "metadata": {
    "collapsed": false,
    "deletable": true,
    "editable": true
   },
   "outputs": [
    {
     "data": {
      "text/plain": [
       "905.1428571428572"
      ]
     },
     "execution_count": 4,
     "metadata": {},
     "output_type": "execute_result"
    }
   ],
   "source": [
    "# Task 1: 4)Write a Python program to find the volume of a sphere with diameter 12 cm.  \n",
    "\n",
    "#pi= 22/7\n",
    "# Approach 1: Applying formula directly\n",
    "\n",
    "diameter_of_sphere=12\n",
    "radius_of_sphere=(diameter_of_sphere)/2\n",
    "volume_of_sphere= 4/3 * 22/7 * radius_of_sphere ** 3\n",
    "volume_of_sphere"
   ]
  },
  {
   "cell_type": "code",
   "execution_count": 5,
   "metadata": {
    "collapsed": true,
    "deletable": true,
    "editable": true
   },
   "outputs": [],
   "source": [
    "# Task 1: 4)Write a Python program to find the volume of a sphere with diameter 12 cm.  \n",
    "\n",
    "#pi= 22/7\n",
    "\n",
    "# Approach 2: Applying a user defined function with taking the diameter of sphere using input function[in built function]\n",
    "\n",
    "def volume_of_sphere():\n",
    "    diameter_of_sphere=int(input(\"Enter the diameter of sphere:\"))\n",
    "    radius_of_sphere=diameter_of_sphere/2\n",
    "    volume_of_sphere=4/3*22/7*radius_of_sphere**3\n",
    "    return volume_of_sphere"
   ]
  },
  {
   "cell_type": "code",
   "execution_count": 6,
   "metadata": {
    "collapsed": false,
    "deletable": true,
    "editable": true
   },
   "outputs": [
    {
     "name": "stdout",
     "output_type": "stream",
     "text": [
      "Enter the diameter of sphere:12\n"
     ]
    },
    {
     "data": {
      "text/plain": [
       "905.1428571428572"
      ]
     },
     "execution_count": 6,
     "metadata": {},
     "output_type": "execute_result"
    }
   ],
   "source": [
    "volume_of_sphere()"
   ]
  },
  {
   "cell_type": "code",
   "execution_count": 7,
   "metadata": {
    "collapsed": false,
    "deletable": true,
    "editable": true
   },
   "outputs": [
    {
     "name": "stdout",
     "output_type": "stream",
     "text": [
      "Enter the Sequence of Comma-Separated Numbers:1,2,3,4,5\n"
     ]
    },
    {
     "data": {
      "text/plain": [
       "['1', '2', '3', '4', '5']"
      ]
     },
     "execution_count": 7,
     "metadata": {},
     "output_type": "execute_result"
    }
   ],
   "source": [
    "# Task 2: 1) Write a program which accepts a sequence of comma-separated numbers from console and generate a list.\n",
    "\n",
    "numbers=input(\"Enter the Sequence of Comma-Separated Numbers:\")\n",
    "numbers=numbers.split(',')\n",
    "c=[]\n",
    "for i in numbers:\n",
    "    c.append(i)\n",
    "\n",
    "c"
   ]
  },
  {
   "cell_type": "code",
   "execution_count": 8,
   "metadata": {
    "collapsed": false,
    "deletable": true,
    "editable": true
   },
   "outputs": [
    {
     "name": "stdout",
     "output_type": "stream",
     "text": [
      "\n",
      "*  \n",
      "*  *  \n",
      "*  *  *  \n",
      "*  *  *  *  \n",
      "*  *  *  *  *  \n",
      "*  *  *  *  \n",
      "*  *  *  \n",
      "*  *  \n",
      "*  \n"
     ]
    }
   ],
   "source": [
    "# Task 2: 2) Create the below pattern using nested for loop in Python\n",
    "\n",
    "n=5\n",
    "\n",
    "for i in range(n):\n",
    "    for j in range(i):\n",
    "        print ('*',\" \", end=\"\")\n",
    "    print('')\n",
    "\n",
    "for i in range(n,0,-1):\n",
    "    for j in range(i):\n",
    "        print('*',\" \", end=\"\")\n",
    "    print('')"
   ]
  },
  {
   "cell_type": "code",
   "execution_count": 9,
   "metadata": {
    "collapsed": true,
    "deletable": true,
    "editable": true
   },
   "outputs": [],
   "source": [
    "# Task 2: 3)Write a Python program to reverse a word after accepting the input from the user.\n",
    "\n",
    "def reversing_of_word():\n",
    "    string=input(\"Enter the word to be reversed:\")\n",
    "    reversed_string=string[::-1]\n",
    "    return reversed_string"
   ]
  },
  {
   "cell_type": "code",
   "execution_count": 10,
   "metadata": {
    "collapsed": false,
    "deletable": true,
    "editable": true
   },
   "outputs": [
    {
     "name": "stdout",
     "output_type": "stream",
     "text": [
      "Enter the word to be reversed:AcadGild\n"
     ]
    },
    {
     "data": {
      "text/plain": [
       "'dliGdacA'"
      ]
     },
     "execution_count": 10,
     "metadata": {},
     "output_type": "execute_result"
    }
   ],
   "source": [
    "reversing_of_word()"
   ]
  },
  {
   "cell_type": "code",
   "execution_count": 11,
   "metadata": {
    "collapsed": false,
    "deletable": true,
    "editable": true
   },
   "outputs": [
    {
     "name": "stdout",
     "output_type": "stream",
     "text": [
      "WE, THE PEOPLE OF INDIA, \n",
      "\thaving solemnly resolved to constitute India into a SOVEREIGN, !  \n",
      "\t\tSOCIALIST, SECULAR, DEMOCRATIC REPUBLIC  \n",
      "\t\t and to secure to all its citizens\n"
     ]
    }
   ],
   "source": [
    "# Task 2: 4)#Write a Python Program to print the given string in the format specified in the sample output.\n",
    "\n",
    "# Step : 1 Adding a Multiline Comment for the word given\n",
    "\n",
    "'''WE, THE PEOPLE OF INDIA, having solemnly resolved to constitute India into a\n",
    "SOVEREIGN, SOCIALIST, SECULAR, DEMOCRATIC REPUBLIC and to secure to all\n",
    "its citizens'''\n",
    "\n",
    "# Note: \n",
    "#1) \\n - new line\n",
    "#2) \\t - tab space\n",
    "\n",
    "Expected_Output=print(\"WE, THE PEOPLE OF INDIA, \\n\\thaving solemnly resolved to constitute India into a SOVEREIGN, !  \\n\\t\\tSOCIALIST, SECULAR, DEMOCRATIC REPUBLIC  \\n\\t\\t and to secure to all its citizens\")"
   ]
  },
  {
   "cell_type": "code",
   "execution_count": null,
   "metadata": {
    "collapsed": true,
    "deletable": true,
    "editable": true
   },
   "outputs": [],
   "source": []
  }
 ],
 "metadata": {
  "kernelspec": {
   "display_name": "Python 3",
   "language": "python",
   "name": "python3"
  },
  "language_info": {
   "codemirror_mode": {
    "name": "ipython",
    "version": 3
   },
   "file_extension": ".py",
   "mimetype": "text/x-python",
   "name": "python",
   "nbconvert_exporter": "python",
   "pygments_lexer": "ipython3",
   "version": "3.5.2"
  }
 },
 "nbformat": 4,
 "nbformat_minor": 2
}
